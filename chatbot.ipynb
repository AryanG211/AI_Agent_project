{
 "cells": [
  {
   "cell_type": "code",
   "execution_count": 10,
   "id": "14544803",
   "metadata": {},
   "outputs": [],
   "source": [
    "import os\n",
    "from langchain.embeddings.openai import OpenAIEmbeddings\n",
    "from langchain_google_genai import ChatGoogleGenerativeAI, GoogleGenerativeAIEmbeddings\n",
    "from langchain.vectorstores import FAISS\n",
    "from langchain.text_splitter import RecursiveCharacterTextSplitter\n",
    "from langchain.document_loaders import PyPDFLoader\n",
    "from langchain.chains import RetrievalQA\n",
    "from dotenv import load_dotenv"
   ]
  },
  {
   "cell_type": "markdown",
   "id": "bc82fa4e",
   "metadata": {},
   "source": [
    "Loading the gemini key"
   ]
  },
  {
   "cell_type": "code",
   "execution_count": 11,
   "id": "4d2d259a",
   "metadata": {},
   "outputs": [
    {
     "name": "stdout",
     "output_type": "stream",
     "text": [
      "Gemini API key loaded\n"
     ]
    }
   ],
   "source": [
    "load_dotenv()\n",
    "api_key = os.getenv(\"GOOGLE_API_KEY\") #make sure .env file and place your gemini key\n",
    "\n",
    "if not api_key:\n",
    "    raise ValueError(\"GOOGLE_API_KEY not found in .env file.\")\n",
    "\n",
    "os.environ[\"GOOGLE_API_KEY\"] = api_key\n",
    "print(\"Gemini API key loaded\")\n"
   ]
  },
  {
   "cell_type": "markdown",
   "id": "d94d5b8f",
   "metadata": {},
   "source": [
    "PDF Chunk creating and loading"
   ]
  },
  {
   "cell_type": "code",
   "execution_count": 12,
   "id": "3eff7645",
   "metadata": {},
   "outputs": [
    {
     "name": "stdout",
     "output_type": "stream",
     "text": [
      "Loaded and split into 8 chunks.\n"
     ]
    }
   ],
   "source": [
    "def load_pdf(file_path):\n",
    "    loader = PyPDFLoader(file_path)\n",
    "    pages = loader.load()\n",
    "    \n",
    "    splitter = RecursiveCharacterTextSplitter(\n",
    "        chunk_size=500,\n",
    "        chunk_overlap=100\n",
    "    )\n",
    "    \n",
    "    chunks = splitter.split_documents(pages)\n",
    "    return chunks\n",
    "\n",
    "pdf_path = \"RAG_Agent.pdf\" #Path\n",
    "documents = load_pdf(pdf_path)\n",
    "print(f\"Loaded and split into {len(documents)} chunks.\")\n"
   ]
  },
  {
   "cell_type": "markdown",
   "id": "002b34d8",
   "metadata": {},
   "source": [
    "Embedding and Vector Store"
   ]
  },
  {
   "cell_type": "code",
   "execution_count": 13,
   "id": "c1b1f2e1",
   "metadata": {},
   "outputs": [
    {
     "name": "stdout",
     "output_type": "stream",
     "text": [
      "vector store created.\n"
     ]
    }
   ],
   "source": [
    "embeddings = GoogleGenerativeAIEmbeddings(model=\"models/embedding-001\")\n",
    "vector_db = FAISS.from_documents(documents, embeddings)\n",
    "print(\"vector store created.\")\n"
   ]
  },
  {
   "cell_type": "markdown",
   "id": "cf2ca407",
   "metadata": {},
   "source": [
    "Prompt Template"
   ]
  },
  {
   "cell_type": "code",
   "execution_count": 14,
   "id": "a7c612a3",
   "metadata": {},
   "outputs": [],
   "source": [
    "from langchain.prompts import PromptTemplate\n",
    "custom_prompt = PromptTemplate(\n",
    "    input_variables=[\"summaries\", \"question\"],\n",
    "    template=\"\"\"\n",
    "You are a helpful assistant that only answers based on the provided context.\n",
    "Do not use prior knowledge.\n",
    "\n",
    "Context:\n",
    "{summaries}\n",
    "\n",
    "Question:\n",
    "{question}\n",
    "\n",
    "Only answer from the context. If the answer is not in the context, say \"I don't know.\"\n",
    "\"\"\"\n",
    ")\n",
    "\n"
   ]
  },
  {
   "cell_type": "markdown",
   "id": "799aa8f9",
   "metadata": {},
   "source": [
    "LLM Creation"
   ]
  },
  {
   "cell_type": "code",
   "execution_count": 15,
   "id": "ea4c6438",
   "metadata": {},
   "outputs": [],
   "source": [
    "llm = ChatGoogleGenerativeAI(\n",
    "    model=\"models/gemini-1.5-flash\",  \n",
    "    temperature=0.3,\n",
    "    max_output_tokens=1024,\n",
    "    top_p=0.8,\n",
    "    top_k=40\n",
    ")"
   ]
  },
  {
   "cell_type": "code",
   "execution_count": 16,
   "id": "e139284a",
   "metadata": {},
   "outputs": [],
   "source": [
    "from langchain.chains import ConversationalRetrievalChain\n",
    "from langchain.memory import ConversationBufferMemory\n",
    "\n",
    "# Create memory object\n",
    "memory = ConversationBufferMemory(\n",
    "    memory_key=\"chat_history\",\n",
    "    return_messages=True,\n",
    "    output_key=\"answer\"\n",
    ")"
   ]
  },
  {
   "cell_type": "markdown",
   "id": "213fc585",
   "metadata": {},
   "source": [
    "Retreiver"
   ]
  },
  {
   "cell_type": "code",
   "execution_count": 17,
   "id": "25637344",
   "metadata": {},
   "outputs": [
    {
     "name": "stdout",
     "output_type": "stream",
     "text": [
      "QA chain ready.\n"
     ]
    }
   ],
   "source": [
    "qa_chain = ConversationalRetrievalChain.from_llm(\n",
    "    llm=llm,\n",
    "    retriever=vector_db.as_retriever(),\n",
    "    memory=memory,\n",
    "    return_source_documents=True,\n",
    "    condense_question_prompt=custom_prompt\n",
    ")\n",
    "\n",
    "\n",
    "print(\"QA chain ready.\")"
   ]
  },
  {
   "cell_type": "markdown",
   "id": "3247dc79",
   "metadata": {},
   "source": [
    "Q & A"
   ]
  },
  {
   "cell_type": "code",
   "execution_count": 18,
   "id": "43c2d21d",
   "metadata": {},
   "outputs": [
    {
     "name": "stdout",
     "output_type": "stream",
     "text": [
      "AI: To deliver the parcel, go to room 202.  There will be a box outside the room where you should leave it.\n",
      "❌ Error: Missing some input keys: {'summaries'}\n",
      "⚠️ Please enter a question.\n",
      "❌ Error: Missing some input keys: {'summaries'}\n",
      "❌ Error: Missing some input keys: {'summaries'}\n",
      "⚠️ Please enter a question.\n",
      "❌ Error: Missing some input keys: {'summaries'}\n",
      "🛑 Exiting chat.\n"
     ]
    }
   ],
   "source": [
    "# question = \"Yes i have reached on the main gate ,now where?\"\n",
    "\n",
    "# response = qa_chain({\"question\": question})\n",
    "\n",
    "# print(\"AI Answer:\", response[\"answer\"])  # use \"answer\" instead of \"result\"\n",
    "\n",
    "\n",
    "# # Show relevant source context\n",
    "# # for i, doc in enumerate(response[\"source_documents\"]):\n",
    "# #     print(f\"\\n📄 Source {i+1}:\\n{doc.page_content}\")\n",
    "chat_history = []\n",
    "\n",
    "while True:\n",
    "    question = input(\"You: \").strip()\n",
    "    \n",
    "    if not question:\n",
    "        print(\"⚠️ Please enter a question.\")\n",
    "        continue\n",
    "\n",
    "    # Only exit if the user *exactly* types 'exit'\n",
    "    if question.lower() == \"exit\":\n",
    "        print(\"🛑 Exiting chat.\")\n",
    "        break\n",
    "\n",
    "    try:\n",
    "        response = qa_chain.invoke({\"question\": question, \"chat_history\": chat_history})\n",
    "        print(\"AI:\", response[\"answer\"])\n",
    "\n",
    "        # Update chat history (manual memory)\n",
    "        chat_history.append((question, response[\"answer\"]))\n",
    "\n",
    "    except Exception as e:\n",
    "        print(\"❌ Error:\", e)\n",
    "\n",
    "\n"
   ]
  },
  {
   "cell_type": "code",
   "execution_count": null,
   "id": "33f91399",
   "metadata": {},
   "outputs": [],
   "source": []
  }
 ],
 "metadata": {
  "kernelspec": {
   "display_name": "agent",
   "language": "python",
   "name": "python3"
  },
  "language_info": {
   "codemirror_mode": {
    "name": "ipython",
    "version": 3
   },
   "file_extension": ".py",
   "mimetype": "text/x-python",
   "name": "python",
   "nbconvert_exporter": "python",
   "pygments_lexer": "ipython3",
   "version": "3.11.2"
  }
 },
 "nbformat": 4,
 "nbformat_minor": 5
}
